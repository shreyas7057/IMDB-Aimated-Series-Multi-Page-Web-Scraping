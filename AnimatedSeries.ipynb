{
 "cells": [
  {
   "cell_type": "code",
   "execution_count": 1,
   "id": "d0dcc615",
   "metadata": {},
   "outputs": [],
   "source": [
    "import pandas as pd\n",
    "import numpy as np\n",
    "from bs4 import BeautifulSoup\n",
    "import requests"
   ]
  },
  {
   "cell_type": "code",
   "execution_count": 2,
   "id": "69b8dfe5",
   "metadata": {},
   "outputs": [],
   "source": [
    "headers = {'Accept-Language': 'en-US,en;q=0.8'} "
   ]
  },
  {
   "cell_type": "code",
   "execution_count": 3,
   "id": "f9330f52",
   "metadata": {},
   "outputs": [],
   "source": [
    "movie_name = []\n",
    "years = []\n",
    "runtime = []\n",
    "genre = []\n",
    "rating = []\n",
    "certificates = []\n",
    "votes = []"
   ]
  },
  {
   "cell_type": "code",
   "execution_count": 4,
   "id": "733d7da5",
   "metadata": {},
   "outputs": [],
   "source": [
    "for page in range(1,31):\n",
    "    response = requests.get('https://www.imdb.com/search/title/?title_type=tv_series&num_votes=1000,&genres=animation&sort=user_rating,desc&'+'start='+str(page)+'&ref_=adv_nxt', headers=headers)\n",
    "\n",
    "\n",
    "    soup = BeautifulSoup(response.text, \"html.parser\")\n",
    "\n",
    "    movie_div = soup.find_all('div', class_='lister-item mode-advanced')\n",
    "\n",
    "\n",
    "    for container in movie_div:\n",
    "        \n",
    "        #name of movie\n",
    "        name = container.h3.a.text\n",
    "        movie_name.append(name)\n",
    "        \n",
    "        # year \n",
    "        year = container.h3.find('span', class_='lister-item-year').text\n",
    "        years.append(year)\n",
    "        \n",
    "        # runtime\n",
    "        time = container.find('span', class_='runtime').text if container.p.find('span', class_='runtime') else 'NA'\n",
    "        runtime.append(time)\n",
    "        \n",
    "        # genre\n",
    "        genres = container.find('span',class_='genre').text if container.find('span', class_='genre') else 'NA'\n",
    "        genres = genres.split('\\n')\n",
    "        genres = genres[1].replace(' ','')\n",
    "        genre.append(genres)\n",
    "        \n",
    "        # rating\n",
    "        imdb = float(container.strong.text)\n",
    "        rating.append(imdb)\n",
    "        \n",
    "        # certificate\n",
    "        certificate = container.find('span',class_='certificate').text if container.p.find('span', class_='certificate') else 'NA'\n",
    "        certificates.append(certificate)\n",
    "        \n",
    "        # votes\n",
    "        nv = container.find_all('span', attrs={'name':'nv'})\n",
    "        vote = nv[0].text\n",
    "        votes.append(vote)\n",
    "        \n",
    "        "
   ]
  },
  {
   "cell_type": "code",
   "execution_count": 5,
   "id": "f9d8e231",
   "metadata": {},
   "outputs": [],
   "source": [
    "# response = requests.get('https://www.imdb.com/search/title/?title_type=tv_series&num_votes=1000,&genres=animation&sort=user_rating,desc&start=51&ref_=adv_nxt', headers=headers)\n",
    "# soup = BeautifulSoup(response.text, \"html.parser\")\n",
    "# movie_div = soup.find_all('div', class_='lister-item mode-advanced')"
   ]
  },
  {
   "cell_type": "code",
   "execution_count": 6,
   "id": "abaf1a12",
   "metadata": {},
   "outputs": [],
   "source": [
    "# genre = soup.find('span',class_='genre').text\n",
    "# genre = genre.split('\\n')\n",
    "# genre[1]"
   ]
  },
  {
   "cell_type": "code",
   "execution_count": 7,
   "id": "9135b05e",
   "metadata": {},
   "outputs": [
    {
     "name": "stdout",
     "output_type": "stream",
     "text": [
      "1500\n"
     ]
    }
   ],
   "source": [
    "print(len(movie_name))"
   ]
  },
  {
   "cell_type": "code",
   "execution_count": 8,
   "id": "a50843cb",
   "metadata": {},
   "outputs": [
    {
     "name": "stdout",
     "output_type": "stream",
     "text": [
      "1500\n"
     ]
    }
   ],
   "source": [
    "print(len(years))"
   ]
  },
  {
   "cell_type": "code",
   "execution_count": 9,
   "id": "d51d9950",
   "metadata": {},
   "outputs": [
    {
     "name": "stdout",
     "output_type": "stream",
     "text": [
      "1500\n"
     ]
    }
   ],
   "source": [
    "print(len(runtime))"
   ]
  },
  {
   "cell_type": "code",
   "execution_count": 10,
   "id": "db8e5acf",
   "metadata": {},
   "outputs": [
    {
     "name": "stdout",
     "output_type": "stream",
     "text": [
      "1500\n"
     ]
    }
   ],
   "source": [
    "print(len(genre))"
   ]
  },
  {
   "cell_type": "code",
   "execution_count": 11,
   "id": "ee5f91b0",
   "metadata": {},
   "outputs": [
    {
     "name": "stdout",
     "output_type": "stream",
     "text": [
      "1500\n"
     ]
    }
   ],
   "source": [
    "print(len(rating))"
   ]
  },
  {
   "cell_type": "code",
   "execution_count": 12,
   "id": "a1a7f653",
   "metadata": {},
   "outputs": [
    {
     "name": "stdout",
     "output_type": "stream",
     "text": [
      "1500\n"
     ]
    }
   ],
   "source": [
    "print(len(certificates))"
   ]
  },
  {
   "cell_type": "code",
   "execution_count": 13,
   "id": "5e8639a9",
   "metadata": {},
   "outputs": [
    {
     "name": "stdout",
     "output_type": "stream",
     "text": [
      "1500\n"
     ]
    }
   ],
   "source": [
    "print(len(votes))"
   ]
  },
  {
   "cell_type": "code",
   "execution_count": 14,
   "id": "332536f9",
   "metadata": {},
   "outputs": [],
   "source": [
    "animated_df = pd.DataFrame(\n",
    "{\n",
    "    'Series Name':movie_name,\n",
    "    'Years':years,\n",
    "    'Runtime':runtime,\n",
    "    'Genre':genre,\n",
    "    'Rating':rating,\n",
    "    'Certificate':certificates,\n",
    "    'Votes':votes\n",
    "}\n",
    ")"
   ]
  },
  {
   "cell_type": "code",
   "execution_count": 15,
   "id": "84cf8d26",
   "metadata": {},
   "outputs": [
    {
     "data": {
      "text/html": [
       "<div>\n",
       "<style scoped>\n",
       "    .dataframe tbody tr th:only-of-type {\n",
       "        vertical-align: middle;\n",
       "    }\n",
       "\n",
       "    .dataframe tbody tr th {\n",
       "        vertical-align: top;\n",
       "    }\n",
       "\n",
       "    .dataframe thead th {\n",
       "        text-align: right;\n",
       "    }\n",
       "</style>\n",
       "<table border=\"1\" class=\"dataframe\">\n",
       "  <thead>\n",
       "    <tr style=\"text-align: right;\">\n",
       "      <th></th>\n",
       "      <th>Series Name</th>\n",
       "      <th>Years</th>\n",
       "      <th>Runtime</th>\n",
       "      <th>Genre</th>\n",
       "      <th>Rating</th>\n",
       "      <th>Certificate</th>\n",
       "      <th>Votes</th>\n",
       "    </tr>\n",
       "  </thead>\n",
       "  <tbody>\n",
       "    <tr>\n",
       "      <th>0</th>\n",
       "      <td>Bluey</td>\n",
       "      <td>(2018– )</td>\n",
       "      <td>7 min</td>\n",
       "      <td>Animation,Family</td>\n",
       "      <td>9.5</td>\n",
       "      <td>TV-Y</td>\n",
       "      <td>15,551</td>\n",
       "    </tr>\n",
       "    <tr>\n",
       "      <th>1</th>\n",
       "      <td>Avatar: The Last Airbender</td>\n",
       "      <td>(2005–2008)</td>\n",
       "      <td>23 min</td>\n",
       "      <td>Animation,Action,Adventure</td>\n",
       "      <td>9.3</td>\n",
       "      <td>TV-Y7-FV</td>\n",
       "      <td>331,137</td>\n",
       "    </tr>\n",
       "    <tr>\n",
       "      <th>2</th>\n",
       "      <td>Dragon Ball Z Abridged</td>\n",
       "      <td>(2008–2018)</td>\n",
       "      <td>10 min</td>\n",
       "      <td>Animation,Action,Comedy</td>\n",
       "      <td>9.2</td>\n",
       "      <td>TV-14</td>\n",
       "      <td>1,227</td>\n",
       "    </tr>\n",
       "    <tr>\n",
       "      <th>3</th>\n",
       "      <td>The Big Lez Show</td>\n",
       "      <td>(2012–2019)</td>\n",
       "      <td>NA</td>\n",
       "      <td>Animation,Adventure,Comedy</td>\n",
       "      <td>9.2</td>\n",
       "      <td>TV-MA</td>\n",
       "      <td>1,884</td>\n",
       "    </tr>\n",
       "    <tr>\n",
       "      <th>4</th>\n",
       "      <td>Attack on Titan</td>\n",
       "      <td>(2013–2023)</td>\n",
       "      <td>24 min</td>\n",
       "      <td>Animation,Action,Adventure</td>\n",
       "      <td>9.1</td>\n",
       "      <td>TV-MA</td>\n",
       "      <td>410,835</td>\n",
       "    </tr>\n",
       "    <tr>\n",
       "      <th>...</th>\n",
       "      <td>...</td>\n",
       "      <td>...</td>\n",
       "      <td>...</td>\n",
       "      <td>...</td>\n",
       "      <td>...</td>\n",
       "      <td>...</td>\n",
       "      <td>...</td>\n",
       "    </tr>\n",
       "    <tr>\n",
       "      <th>1495</th>\n",
       "      <td>Hell's Paradise: Jigokuraku</td>\n",
       "      <td>(2023– )</td>\n",
       "      <td>24 min</td>\n",
       "      <td>Animation,Action,Adventure</td>\n",
       "      <td>8.5</td>\n",
       "      <td>TV-MA</td>\n",
       "      <td>2,488</td>\n",
       "    </tr>\n",
       "    <tr>\n",
       "      <th>1496</th>\n",
       "      <td>Jujutsu Kaisen</td>\n",
       "      <td>(2020– )</td>\n",
       "      <td>24 min</td>\n",
       "      <td>Animation,Action,Adventure</td>\n",
       "      <td>8.5</td>\n",
       "      <td>TV-MA</td>\n",
       "      <td>72,140</td>\n",
       "    </tr>\n",
       "    <tr>\n",
       "      <th>1497</th>\n",
       "      <td>Chainsaw Man</td>\n",
       "      <td>(2022– )</td>\n",
       "      <td>25 min</td>\n",
       "      <td>Animation,Action,Adventure</td>\n",
       "      <td>8.5</td>\n",
       "      <td>TV-MA</td>\n",
       "      <td>36,886</td>\n",
       "    </tr>\n",
       "    <tr>\n",
       "      <th>1498</th>\n",
       "      <td>The Owl House</td>\n",
       "      <td>(2020–2023)</td>\n",
       "      <td>22 min</td>\n",
       "      <td>Animation,Action,Adventure</td>\n",
       "      <td>8.5</td>\n",
       "      <td>TV-Y7-FV</td>\n",
       "      <td>15,454</td>\n",
       "    </tr>\n",
       "    <tr>\n",
       "      <th>1499</th>\n",
       "      <td>JoJo's Bizarre Adventure</td>\n",
       "      <td>(2012– )</td>\n",
       "      <td>24 min</td>\n",
       "      <td>Animation,Action,Adventure</td>\n",
       "      <td>8.5</td>\n",
       "      <td>TV-14</td>\n",
       "      <td>28,410</td>\n",
       "    </tr>\n",
       "  </tbody>\n",
       "</table>\n",
       "<p>1500 rows × 7 columns</p>\n",
       "</div>"
      ],
      "text/plain": [
       "                      Series Name        Years Runtime  \\\n",
       "0                           Bluey     (2018– )   7 min   \n",
       "1      Avatar: The Last Airbender  (2005–2008)  23 min   \n",
       "2          Dragon Ball Z Abridged  (2008–2018)  10 min   \n",
       "3                The Big Lez Show  (2012–2019)      NA   \n",
       "4                 Attack on Titan  (2013–2023)  24 min   \n",
       "...                           ...          ...     ...   \n",
       "1495  Hell's Paradise: Jigokuraku     (2023– )  24 min   \n",
       "1496               Jujutsu Kaisen     (2020– )  24 min   \n",
       "1497                 Chainsaw Man     (2022– )  25 min   \n",
       "1498                The Owl House  (2020–2023)  22 min   \n",
       "1499     JoJo's Bizarre Adventure     (2012– )  24 min   \n",
       "\n",
       "                           Genre  Rating Certificate    Votes  \n",
       "0               Animation,Family     9.5        TV-Y   15,551  \n",
       "1     Animation,Action,Adventure     9.3    TV-Y7-FV  331,137  \n",
       "2        Animation,Action,Comedy     9.2       TV-14    1,227  \n",
       "3     Animation,Adventure,Comedy     9.2       TV-MA    1,884  \n",
       "4     Animation,Action,Adventure     9.1       TV-MA  410,835  \n",
       "...                          ...     ...         ...      ...  \n",
       "1495  Animation,Action,Adventure     8.5       TV-MA    2,488  \n",
       "1496  Animation,Action,Adventure     8.5       TV-MA   72,140  \n",
       "1497  Animation,Action,Adventure     8.5       TV-MA   36,886  \n",
       "1498  Animation,Action,Adventure     8.5    TV-Y7-FV   15,454  \n",
       "1499  Animation,Action,Adventure     8.5       TV-14   28,410  \n",
       "\n",
       "[1500 rows x 7 columns]"
      ]
     },
     "execution_count": 15,
     "metadata": {},
     "output_type": "execute_result"
    }
   ],
   "source": [
    "animated_df"
   ]
  },
  {
   "cell_type": "code",
   "execution_count": 24,
   "id": "e575bf94",
   "metadata": {},
   "outputs": [],
   "source": [
    "animated_df.to_csv(\"AnimatedSeries.csv\",index_label='Sr.No')"
   ]
  },
  {
   "cell_type": "code",
   "execution_count": 25,
   "id": "8b3f17d1",
   "metadata": {},
   "outputs": [],
   "source": [
    "animated_df.to_excel(\"AnimatedWebSeries.xlsx\",index=False)"
   ]
  },
  {
   "cell_type": "code",
   "execution_count": null,
   "id": "e7261d3b",
   "metadata": {},
   "outputs": [],
   "source": []
  }
 ],
 "metadata": {
  "kernelspec": {
   "display_name": "Python 3 (ipykernel)",
   "language": "python",
   "name": "python3"
  },
  "language_info": {
   "codemirror_mode": {
    "name": "ipython",
    "version": 3
   },
   "file_extension": ".py",
   "mimetype": "text/x-python",
   "name": "python",
   "nbconvert_exporter": "python",
   "pygments_lexer": "ipython3",
   "version": "3.9.12"
  }
 },
 "nbformat": 4,
 "nbformat_minor": 5
}
